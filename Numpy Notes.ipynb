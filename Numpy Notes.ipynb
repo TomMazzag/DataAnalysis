{
  "metadata": {
    "language_info": {
      "codemirror_mode": {
        "name": "python",
        "version": 3
      },
      "file_extension": ".py",
      "mimetype": "text/x-python",
      "name": "python",
      "nbconvert_exporter": "python",
      "pygments_lexer": "ipython3",
      "version": "3.8"
    },
    "kernelspec": {
      "name": "python",
      "display_name": "Python (Pyodide)",
      "language": "python"
    },
    "colab": {
      "provenance": []
    }
  },
  "nbformat_minor": 0,
  "nbformat": 4,
  "cells": [
    {
      "cell_type": "markdown",
      "source": [
        "[![Open In Colab](https://colab.research.google.com/assets/colab-badge.svg)](https://colab.research.google.com/github/TomMazzag/DataAnalysis/blob/main/Pandas%20Notes.ipynb)"
      ],
      "metadata": {
        "id": "4zRQqzdXC_yy"
      }
    },
    {
      "cell_type": "markdown",
      "source": [
        "# Arrays"
      ],
      "metadata": {
        "id": "F39Amar7CT1S"
      }
    },
    {
      "cell_type": "markdown",
      "source": [
        "Numpy arrays mostly the same as python arrays\n",
        "<br>Only Difference is multi arrays\n"
      ],
      "metadata": {
        "id": "CeXkWU9wCT1U"
      }
    },
    {
      "cell_type": "markdown",
      "source": [
        "Can help reducing storage and increase performance"
      ],
      "metadata": {
        "id": "TKJpMu1tCT1U"
      }
    },
    {
      "cell_type": "code",
      "source": [
        "import numpy as np\n",
        "a = np.array([1, 2, 3, 4])"
      ],
      "metadata": {
        "tags": [],
        "trusted": true,
        "id": "EeqyRssnCT1V"
      },
      "execution_count": null,
      "outputs": []
    },
    {
      "cell_type": "code",
      "source": [
        "a"
      ],
      "metadata": {
        "trusted": true,
        "id": "TGxlsTtxCT1V",
        "outputId": "78be80d5-6205-4bf4-8834-4ba7520cd384"
      },
      "execution_count": null,
      "outputs": [
        {
          "execution_count": 3,
          "output_type": "execute_result",
          "data": {
            "text/plain": "array([1, 2, 3, 4])"
          },
          "metadata": {}
        }
      ]
    },
    {
      "cell_type": "code",
      "source": [
        "a.dtype\n",
        "#to get the data type of an np element use .dtype"
      ],
      "metadata": {
        "trusted": true,
        "id": "S48QWGWvCT1W",
        "outputId": "6357eb5b-dd62-42c1-8999-bf1ad92df879"
      },
      "execution_count": null,
      "outputs": [
        {
          "execution_count": 4,
          "output_type": "execute_result",
          "data": {
            "text/plain": "dtype('int32')"
          },
          "metadata": {}
        }
      ]
    },
    {
      "cell_type": "code",
      "source": [
        "#to change the data type of an array just add it in the array decliration\n",
        "b = np.array([1, 2, 3, 4], dtype=np.int64)\n",
        "b.dtype"
      ],
      "metadata": {
        "trusted": true,
        "id": "DD24qRS6CT1W",
        "outputId": "84eb0ece-4f9c-4bc3-f7bf-9055641d456d"
      },
      "execution_count": null,
      "outputs": [
        {
          "execution_count": 5,
          "output_type": "execute_result",
          "data": {
            "text/plain": "dtype('int64')"
          },
          "metadata": {}
        }
      ]
    },
    {
      "cell_type": "markdown",
      "source": [
        "# Arrays with calculations"
      ],
      "metadata": {
        "id": "H4kMKeWxCT1W"
      }
    },
    {
      "cell_type": "code",
      "source": [
        "#In numpy you can temp change arrays but it will not permanently modify the array as shown below\n",
        "a + 10"
      ],
      "metadata": {
        "trusted": true,
        "id": "0wLT7FtsCT1X",
        "outputId": "07af0c33-7d59-4d08-d606-52416a0b3a6d"
      },
      "execution_count": null,
      "outputs": [
        {
          "execution_count": 7,
          "output_type": "execute_result",
          "data": {
            "text/plain": "array([11, 12, 13, 14])"
          },
          "metadata": {}
        }
      ]
    },
    {
      "cell_type": "code",
      "source": [
        "a * 10"
      ],
      "metadata": {
        "trusted": true,
        "id": "Hhy_4dVbCT1X",
        "outputId": "413701ee-797a-4ebc-fbec-26c3f2a93fc3"
      },
      "execution_count": null,
      "outputs": [
        {
          "execution_count": 8,
          "output_type": "execute_result",
          "data": {
            "text/plain": "array([10, 20, 30, 40])"
          },
          "metadata": {}
        }
      ]
    },
    {
      "cell_type": "code",
      "source": [
        "a"
      ],
      "metadata": {
        "trusted": true,
        "id": "z2p7iB_XCT1X",
        "outputId": "3f76fe94-c864-46be-eabf-e963d45b33c1"
      },
      "execution_count": null,
      "outputs": [
        {
          "execution_count": 9,
          "output_type": "execute_result",
          "data": {
            "text/plain": "array([1, 2, 3, 4])"
          },
          "metadata": {}
        }
      ]
    },
    {
      "cell_type": "markdown",
      "source": [
        "As shown the array can have the above calculations done but as shown by the last statement the original array hasn't been changed"
      ],
      "metadata": {
        "id": "KW0QE_UbCT1X"
      }
    },
    {
      "cell_type": "markdown",
      "source": [
        "With the above calculations that can be done with numpy, they can also be used to add arrays to eachother as shown"
      ],
      "metadata": {
        "id": "nJdUqHcfCT1X"
      }
    },
    {
      "cell_type": "code",
      "source": [
        "b = np.array([2, 4, 6, 8])"
      ],
      "metadata": {
        "trusted": true,
        "id": "1zDMJP9wCT1Y"
      },
      "execution_count": null,
      "outputs": []
    },
    {
      "cell_type": "code",
      "source": [
        "a + b"
      ],
      "metadata": {
        "trusted": true,
        "id": "gO89txEkCT1Y",
        "outputId": "4c24177a-bdeb-4ca8-dbaa-dc39e5d870d4"
      },
      "execution_count": null,
      "outputs": [
        {
          "execution_count": 11,
          "output_type": "execute_result",
          "data": {
            "text/plain": "array([ 3,  6,  9, 12])"
          },
          "metadata": {}
        }
      ]
    },
    {
      "cell_type": "markdown",
      "source": [
        "# Boolean Arrays"
      ],
      "metadata": {
        "id": "xmRTtWWnCT1Y"
      }
    },
    {
      "cell_type": "code",
      "source": [
        "a"
      ],
      "metadata": {
        "trusted": true,
        "id": "kimQ-1_hCT1Y",
        "outputId": "12d469ea-7a2b-43fa-b8fb-1b838e41a3d6"
      },
      "execution_count": null,
      "outputs": [
        {
          "execution_count": 14,
          "output_type": "execute_result",
          "data": {
            "text/plain": "array([1, 2, 3, 4])"
          },
          "metadata": {}
        }
      ]
    },
    {
      "cell_type": "code",
      "source": [
        "a[[True, True, False, True]]"
      ],
      "metadata": {
        "trusted": true,
        "id": "s49QqU-vCT1Y",
        "outputId": "68b1fb55-45ac-49f4-de86-433e598f7dd3"
      },
      "execution_count": null,
      "outputs": [
        {
          "execution_count": 13,
          "output_type": "execute_result",
          "data": {
            "text/plain": "array([1, 2, 4])"
          },
          "metadata": {}
        }
      ]
    },
    {
      "cell_type": "code",
      "source": [
        "a <= 3"
      ],
      "metadata": {
        "trusted": true,
        "id": "nHwBy0NOCT1Y",
        "outputId": "49a29258-1e5d-428a-f4e6-50374952674a"
      },
      "execution_count": null,
      "outputs": [
        {
          "execution_count": 15,
          "output_type": "execute_result",
          "data": {
            "text/plain": "array([ True,  True,  True, False])"
          },
          "metadata": {}
        }
      ]
    },
    {
      "cell_type": "code",
      "source": [
        "a.mean()"
      ],
      "metadata": {
        "trusted": true,
        "id": "7hv0_jIXCT1Y",
        "outputId": "503b25d2-a55f-4a73-9a75-3da1b5112100"
      },
      "execution_count": null,
      "outputs": [
        {
          "execution_count": 16,
          "output_type": "execute_result",
          "data": {
            "text/plain": "2.5"
          },
          "metadata": {}
        }
      ]
    },
    {
      "cell_type": "code",
      "source": [
        "a[a <= 3]"
      ],
      "metadata": {
        "trusted": true,
        "id": "JOsd49z6CT1Y",
        "outputId": "657073bd-9f6e-4131-e06e-f24fd99d5235"
      },
      "execution_count": null,
      "outputs": [
        {
          "execution_count": 17,
          "output_type": "execute_result",
          "data": {
            "text/plain": "array([1, 2, 3])"
          },
          "metadata": {}
        }
      ]
    },
    {
      "cell_type": "code",
      "source": [
        "a[~1]"
      ],
      "metadata": {
        "trusted": true,
        "id": "LrE0WQp7CT1Y",
        "outputId": "5941a5fc-9257-4d0f-8c90-b7a73508760d"
      },
      "execution_count": null,
      "outputs": [
        {
          "execution_count": 25,
          "output_type": "execute_result",
          "data": {
            "text/plain": "3"
          },
          "metadata": {}
        }
      ]
    },
    {
      "cell_type": "markdown",
      "source": [
        "### 2D array boolean"
      ],
      "metadata": {
        "id": "p6Dz553TCT1Z"
      }
    },
    {
      "cell_type": "code",
      "source": [
        "b = np.array([\n",
        "    [2, 6, 3],\n",
        "    [9, 10, 1],\n",
        "    [3, 5, 15]\n",
        "])\n",
        "b"
      ],
      "metadata": {
        "trusted": true,
        "id": "eqPo1NDwCT1Z",
        "outputId": "228c5d36-be6d-4c79-9e8a-1443cf83893b"
      },
      "execution_count": null,
      "outputs": [
        {
          "execution_count": 28,
          "output_type": "execute_result",
          "data": {
            "text/plain": "array([[ 2,  6,  3],\n       [ 9, 10,  1],\n       [ 3,  5, 15]])"
          },
          "metadata": {}
        }
      ]
    },
    {
      "cell_type": "markdown",
      "source": [
        "Can be used on 3d arrays as well as shown below which allows for filtering"
      ],
      "metadata": {
        "id": "ZRkGQHlOCT1Z"
      }
    },
    {
      "cell_type": "code",
      "source": [
        "b[b < 5]"
      ],
      "metadata": {
        "trusted": true,
        "id": "Cvm5mllECT1Z",
        "outputId": "8c3a56f9-8971-4eb9-e75b-149b656e9467"
      },
      "execution_count": null,
      "outputs": [
        {
          "execution_count": 29,
          "output_type": "execute_result",
          "data": {
            "text/plain": "array([2, 3, 1, 3])"
          },
          "metadata": {}
        }
      ]
    },
    {
      "cell_type": "code",
      "source": [],
      "metadata": {
        "id": "SsHwMEacCT1Z"
      },
      "execution_count": null,
      "outputs": []
    }
  ]
}
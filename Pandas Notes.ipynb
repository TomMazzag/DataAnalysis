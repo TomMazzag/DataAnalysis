{
  "metadata": {
    "language_info": {
      "codemirror_mode": {
        "name": "python",
        "version": 3
      },
      "file_extension": ".py",
      "mimetype": "text/x-python",
      "name": "python",
      "nbconvert_exporter": "python",
      "pygments_lexer": "ipython3",
      "version": "3.8"
    },
    "kernelspec": {
      "name": "python",
      "display_name": "Python (Pyodide)",
      "language": "python"
    }
  },
  "nbformat_minor": 4,
  "nbformat": 4,
  "cells": [
    {
      "cell_type": "markdown",
      "source": "# Pandas",
      "metadata": {}
    },
    {
      "cell_type": "code",
      "source": "import numpy as np\nimport pandas as pd",
      "metadata": {
        "trusted": true
      },
      "execution_count": 1,
      "outputs": []
    },
    {
      "cell_type": "markdown",
      "source": "### Pandas data tpyes",
      "metadata": {}
    },
    {
      "cell_type": "code",
      "source": "test = pd.Series([12.4, 11.4, 8.3, 7.1, 18.2])\ntest",
      "metadata": {
        "trusted": true
      },
      "execution_count": 3,
      "outputs": [
        {
          "execution_count": 3,
          "output_type": "execute_result",
          "data": {
            "text/plain": "0    12.4\n1    11.4\n2     8.3\n3     7.1\n4    18.2\ndtype: float64"
          },
          "metadata": {}
        }
      ]
    },
    {
      "cell_type": "markdown",
      "source": "As shown the series automatically asigns a data type",
      "metadata": {}
    },
    {
      "cell_type": "markdown",
      "source": "With a series you can give the series a name to describe it",
      "metadata": {}
    },
    {
      "cell_type": "code",
      "source": "test.name = 'Example Data'\ntest",
      "metadata": {
        "trusted": true
      },
      "execution_count": 4,
      "outputs": [
        {
          "execution_count": 4,
          "output_type": "execute_result",
          "data": {
            "text/plain": "0    12.4\n1    11.4\n2     8.3\n3     7.1\n4    18.2\nName: Example Data, dtype: float64"
          },
          "metadata": {}
        }
      ]
    },
    {
      "cell_type": "code",
      "source": "test.values",
      "metadata": {
        "trusted": true
      },
      "execution_count": 5,
      "outputs": [
        {
          "execution_count": 5,
          "output_type": "execute_result",
          "data": {
            "text/plain": "array([12.4, 11.4,  8.3,  7.1, 18.2])"
          },
          "metadata": {}
        }
      ]
    },
    {
      "cell_type": "markdown",
      "source": "#### Same as a regular list individual elements can be selected",
      "metadata": {}
    },
    {
      "cell_type": "code",
      "source": "test[3]",
      "metadata": {
        "trusted": true
      },
      "execution_count": 6,
      "outputs": [
        {
          "execution_count": 6,
          "output_type": "execute_result",
          "data": {
            "text/plain": "7.1"
          },
          "metadata": {}
        }
      ]
    },
    {
      "cell_type": "markdown",
      "source": "#### The index of a series can however be changed like so",
      "metadata": {}
    },
    {
      "cell_type": "code",
      "source": "test.index = [\n    'First',\n    'Second',\n    'Third',\n    'Fourth',\n    'Fifth'\n]\ntest",
      "metadata": {
        "trusted": true
      },
      "execution_count": 7,
      "outputs": [
        {
          "execution_count": 7,
          "output_type": "execute_result",
          "data": {
            "text/plain": "First     12.4\nSecond    11.4\nThird      8.3\nFourth     7.1\nFifth     18.2\nName: Example Data, dtype: float64"
          },
          "metadata": {}
        }
      ]
    },
    {
      "cell_type": "markdown",
      "source": "The series can be created with custom indexes and name from the start if prefered",
      "metadata": {}
    },
    {
      "cell_type": "code",
      "source": "test2 = pd.Series(\n    [(255, 0, 0), (0, 255, 0), (0, 0, 255)],\n    index = ['Red', 'Green', 'Blue'],\n    name = 'RGB'\n)\ntest2",
      "metadata": {
        "trusted": true
      },
      "execution_count": 9,
      "outputs": [
        {
          "execution_count": 9,
          "output_type": "execute_result",
          "data": {
            "text/plain": "Red      (255, 0, 0)\nGreen    (0, 255, 0)\nBlue     (0, 0, 255)\nName: RGB, dtype: object"
          },
          "metadata": {}
        }
      ]
    },
    {
      "cell_type": "code",
      "source": "test2['Blue']",
      "metadata": {
        "trusted": true
      },
      "execution_count": 10,
      "outputs": [
        {
          "execution_count": 10,
          "output_type": "execute_result",
          "data": {
            "text/plain": "(0, 0, 255)"
          },
          "metadata": {}
        }
      ]
    },
    {
      "cell_type": "code",
      "source": "test2[['Green', 'Red']]",
      "metadata": {
        "trusted": true
      },
      "execution_count": 17,
      "outputs": [
        {
          "execution_count": 17,
          "output_type": "execute_result",
          "data": {
            "text/plain": "Green    (0, 255, 0)\nRed      (255, 0, 0)\nName: RGB, dtype: object"
          },
          "metadata": {}
        }
      ]
    },
    {
      "cell_type": "markdown",
      "source": "#### In pandas the upper limit of a list is included vs python",
      "metadata": {}
    },
    {
      "cell_type": "code",
      "source": "l = [1, 2, 3, 4]\nprint(l[:2])\ntest2['Red':'Blue']",
      "metadata": {
        "trusted": true
      },
      "execution_count": 21,
      "outputs": [
        {
          "name": "stdout",
          "text": "[1, 2]\n",
          "output_type": "stream"
        },
        {
          "execution_count": 21,
          "output_type": "execute_result",
          "data": {
            "text/plain": "Red      (255, 0, 0)\nGreen    (0, 255, 0)\nBlue     (0, 0, 255)\nName: RGB, dtype: object"
          },
          "metadata": {}
        }
      ]
    },
    {
      "cell_type": "markdown",
      "source": "# Boolean series",
      "metadata": {}
    },
    {
      "cell_type": "markdown",
      "source": "Same as Numpy, operations can be used on the series:",
      "metadata": {}
    },
    {
      "cell_type": "code",
      "source": "test * 10",
      "metadata": {
        "trusted": true
      },
      "execution_count": 22,
      "outputs": [
        {
          "execution_count": 22,
          "output_type": "execute_result",
          "data": {
            "text/plain": "First     124.0\nSecond    114.0\nThird      83.0\nFourth     71.0\nFifth     182.0\nName: Example Data, dtype: float64"
          },
          "metadata": {}
        }
      ]
    },
    {
      "cell_type": "code",
      "source": "(test * 10).mean()",
      "metadata": {
        "trusted": true
      },
      "execution_count": 24,
      "outputs": [
        {
          "execution_count": 24,
          "output_type": "execute_result",
          "data": {
            "text/plain": "114.8"
          },
          "metadata": {}
        }
      ]
    },
    {
      "cell_type": "code",
      "source": "test",
      "metadata": {
        "trusted": true
      },
      "execution_count": 25,
      "outputs": [
        {
          "execution_count": 25,
          "output_type": "execute_result",
          "data": {
            "text/plain": "First     12.4\nSecond    11.4\nThird      8.3\nFourth     7.1\nFifth     18.2\nName: Example Data, dtype: float64"
          },
          "metadata": {}
        }
      ]
    },
    {
      "cell_type": "code",
      "source": "test > 12",
      "metadata": {
        "trusted": true
      },
      "execution_count": 26,
      "outputs": [
        {
          "execution_count": 26,
          "output_type": "execute_result",
          "data": {
            "text/plain": "First      True\nSecond    False\nThird     False\nFourth    False\nFifth      True\nName: Example Data, dtype: bool"
          },
          "metadata": {}
        }
      ]
    },
    {
      "cell_type": "code",
      "source": "test[test > 12]",
      "metadata": {
        "trusted": true
      },
      "execution_count": 27,
      "outputs": [
        {
          "execution_count": 27,
          "output_type": "execute_result",
          "data": {
            "text/plain": "First    12.4\nFifth    18.2\nName: Example Data, dtype: float64"
          },
          "metadata": {}
        }
      ]
    },
    {
      "cell_type": "code",
      "source": "test[(test > 8) & (test < 12)]",
      "metadata": {
        "trusted": true
      },
      "execution_count": 29,
      "outputs": [
        {
          "execution_count": 29,
          "output_type": "execute_result",
          "data": {
            "text/plain": "Second    11.4\nThird      8.3\nName: Example Data, dtype: float64"
          },
          "metadata": {}
        }
      ]
    },
    {
      "cell_type": "markdown",
      "source": "### Modifying Series",
      "metadata": {}
    },
    {
      "cell_type": "code",
      "source": "test['Third'] = 19.2\ntest",
      "metadata": {
        "trusted": true
      },
      "execution_count": 32,
      "outputs": [
        {
          "execution_count": 32,
          "output_type": "execute_result",
          "data": {
            "text/plain": "First     12.4\nSecond    11.4\nThird     19.2\nFourth     7.1\nFifth     18.2\nName: Example Data, dtype: float64"
          },
          "metadata": {}
        }
      ]
    },
    {
      "cell_type": "code",
      "source": "test[test > 19] = 20\ntest",
      "metadata": {
        "trusted": true
      },
      "execution_count": 33,
      "outputs": [
        {
          "execution_count": 33,
          "output_type": "execute_result",
          "data": {
            "text/plain": "First     12.4\nSecond    11.4\nThird     20.0\nFourth     7.1\nFifth     18.2\nName: Example Data, dtype: float64"
          },
          "metadata": {}
        }
      ]
    },
    {
      "cell_type": "markdown",
      "source": "<br>\n<br>\n<br>\n<br>\n\n# Data Frames",
      "metadata": {}
    },
    {
      "cell_type": "markdown",
      "source": "A data frame is more like a table",
      "metadata": {}
    },
    {
      "cell_type": "markdown",
      "source": "Data frames will most likely be pulled from as csv as manually creating one is more tedious",
      "metadata": {}
    },
    {
      "cell_type": "code",
      "source": "df = pd.DataFrame({\n    'Rainfall': [15, 12, 11],\n    'Temperature': [10, 13, 14],\n    'Wind': [20, 5, 7],\n}, \ncolumns = ['Rainfall', 'Temperature', 'Wind'],\nindex = ['England', 'France', 'Germany'])\n\ndf",
      "metadata": {
        "trusted": true
      },
      "execution_count": 39,
      "outputs": [
        {
          "execution_count": 39,
          "output_type": "execute_result",
          "data": {
            "text/plain": "         Rainfall  Temperature  Wind\nEngland        15           10    20\nFrance         12           13     5\nGermany        11           14     7",
            "text/html": "<div>\n<style scoped>\n    .dataframe tbody tr th:only-of-type {\n        vertical-align: middle;\n    }\n\n    .dataframe tbody tr th {\n        vertical-align: top;\n    }\n\n    .dataframe thead th {\n        text-align: right;\n    }\n</style>\n<table border=\"1\" class=\"dataframe\">\n  <thead>\n    <tr style=\"text-align: right;\">\n      <th></th>\n      <th>Rainfall</th>\n      <th>Temperature</th>\n      <th>Wind</th>\n    </tr>\n  </thead>\n  <tbody>\n    <tr>\n      <th>England</th>\n      <td>15</td>\n      <td>10</td>\n      <td>20</td>\n    </tr>\n    <tr>\n      <th>France</th>\n      <td>12</td>\n      <td>13</td>\n      <td>5</td>\n    </tr>\n    <tr>\n      <th>Germany</th>\n      <td>11</td>\n      <td>14</td>\n      <td>7</td>\n    </tr>\n  </tbody>\n</table>\n</div>"
          },
          "metadata": {}
        }
      ]
    },
    {
      "cell_type": "code",
      "source": "df.info()",
      "metadata": {
        "trusted": true
      },
      "execution_count": 40,
      "outputs": [
        {
          "name": "stdout",
          "text": "<class 'pandas.core.frame.DataFrame'>\nIndex: 3 entries, England to Germany\nData columns (total 3 columns):\n #   Column       Non-Null Count  Dtype\n---  ------       --------------  -----\n 0   Rainfall     3 non-null      int64\n 1   Temperature  3 non-null      int64\n 2   Wind         3 non-null      int64\ndtypes: int64(3)\nmemory usage: 84.0+ bytes\n",
          "output_type": "stream"
        }
      ]
    },
    {
      "cell_type": "code",
      "source": "df.size",
      "metadata": {
        "trusted": true
      },
      "execution_count": 43,
      "outputs": [
        {
          "execution_count": 43,
          "output_type": "execute_result",
          "data": {
            "text/plain": "9"
          },
          "metadata": {}
        }
      ]
    },
    {
      "cell_type": "code",
      "source": "df.shape",
      "metadata": {
        "trusted": true
      },
      "execution_count": 44,
      "outputs": [
        {
          "execution_count": 44,
          "output_type": "execute_result",
          "data": {
            "text/plain": "(3, 3)"
          },
          "metadata": {}
        }
      ]
    },
    {
      "cell_type": "code",
      "source": "df.describe()",
      "metadata": {
        "trusted": true
      },
      "execution_count": 45,
      "outputs": [
        {
          "execution_count": 45,
          "output_type": "execute_result",
          "data": {
            "text/plain": "        Rainfall  Temperature       Wind\ncount   3.000000     3.000000   3.000000\nmean   12.666667    12.333333  10.666667\nstd     2.081666     2.081666   8.144528\nmin    11.000000    10.000000   5.000000\n25%    11.500000    11.500000   6.000000\n50%    12.000000    13.000000   7.000000\n75%    13.500000    13.500000  13.500000\nmax    15.000000    14.000000  20.000000",
            "text/html": "<div>\n<style scoped>\n    .dataframe tbody tr th:only-of-type {\n        vertical-align: middle;\n    }\n\n    .dataframe tbody tr th {\n        vertical-align: top;\n    }\n\n    .dataframe thead th {\n        text-align: right;\n    }\n</style>\n<table border=\"1\" class=\"dataframe\">\n  <thead>\n    <tr style=\"text-align: right;\">\n      <th></th>\n      <th>Rainfall</th>\n      <th>Temperature</th>\n      <th>Wind</th>\n    </tr>\n  </thead>\n  <tbody>\n    <tr>\n      <th>count</th>\n      <td>3.000000</td>\n      <td>3.000000</td>\n      <td>3.000000</td>\n    </tr>\n    <tr>\n      <th>mean</th>\n      <td>12.666667</td>\n      <td>12.333333</td>\n      <td>10.666667</td>\n    </tr>\n    <tr>\n      <th>std</th>\n      <td>2.081666</td>\n      <td>2.081666</td>\n      <td>8.144528</td>\n    </tr>\n    <tr>\n      <th>min</th>\n      <td>11.000000</td>\n      <td>10.000000</td>\n      <td>5.000000</td>\n    </tr>\n    <tr>\n      <th>25%</th>\n      <td>11.500000</td>\n      <td>11.500000</td>\n      <td>6.000000</td>\n    </tr>\n    <tr>\n      <th>50%</th>\n      <td>12.000000</td>\n      <td>13.000000</td>\n      <td>7.000000</td>\n    </tr>\n    <tr>\n      <th>75%</th>\n      <td>13.500000</td>\n      <td>13.500000</td>\n      <td>13.500000</td>\n    </tr>\n    <tr>\n      <th>max</th>\n      <td>15.000000</td>\n      <td>14.000000</td>\n      <td>20.000000</td>\n    </tr>\n  </tbody>\n</table>\n</div>"
          },
          "metadata": {}
        }
      ]
    },
    {
      "cell_type": "code",
      "source": "df.dtypes",
      "metadata": {
        "trusted": true
      },
      "execution_count": 46,
      "outputs": [
        {
          "execution_count": 46,
          "output_type": "execute_result",
          "data": {
            "text/plain": "Rainfall       int64\nTemperature    int64\nWind           int64\ndtype: object"
          },
          "metadata": {}
        }
      ]
    },
    {
      "cell_type": "markdown",
      "source": "<br>",
      "metadata": {}
    },
    {
      "cell_type": "markdown",
      "source": "#### Indexing, Seleciton and Slicing",
      "metadata": {}
    },
    {
      "cell_type": "markdown",
      "source": "By Index",
      "metadata": {}
    },
    {
      "cell_type": "code",
      "source": "df.loc['England']",
      "metadata": {
        "trusted": true
      },
      "execution_count": 47,
      "outputs": [
        {
          "execution_count": 47,
          "output_type": "execute_result",
          "data": {
            "text/plain": "Rainfall       15\nTemperature    10\nWind           20\nName: England, dtype: int64"
          },
          "metadata": {}
        }
      ]
    },
    {
      "cell_type": "markdown",
      "source": "By Position",
      "metadata": {}
    },
    {
      "cell_type": "code",
      "source": "df.iloc[1]",
      "metadata": {
        "trusted": true
      },
      "execution_count": 48,
      "outputs": [
        {
          "execution_count": 48,
          "output_type": "execute_result",
          "data": {
            "text/plain": "Rainfall       12\nTemperature    13\nWind            5\nName: France, dtype: int64"
          },
          "metadata": {}
        }
      ]
    },
    {
      "cell_type": "markdown",
      "source": "By Specific",
      "metadata": {}
    },
    {
      "cell_type": "code",
      "source": "df['Temperature']",
      "metadata": {
        "trusted": true
      },
      "execution_count": 51,
      "outputs": [
        {
          "execution_count": 51,
          "output_type": "execute_result",
          "data": {
            "text/plain": "England    10\nFrance     13\nGermany    14\nName: Temperature, dtype: int64"
          },
          "metadata": {}
        }
      ]
    },
    {
      "cell_type": "markdown",
      "source": "All returned results are examples of series",
      "metadata": {}
    },
    {
      "cell_type": "markdown",
      "source": "Can use same rules as before for series in terms of all from England to France for example\n<br>\nYou can also get more specific as shown below",
      "metadata": {}
    },
    {
      "cell_type": "code",
      "source": "df.loc['England': 'France', ['Rainfall']]",
      "metadata": {
        "trusted": true
      },
      "execution_count": 53,
      "outputs": [
        {
          "execution_count": 53,
          "output_type": "execute_result",
          "data": {
            "text/plain": "         Rainfall\nEngland        15\nFrance         12",
            "text/html": "<div>\n<style scoped>\n    .dataframe tbody tr th:only-of-type {\n        vertical-align: middle;\n    }\n\n    .dataframe tbody tr th {\n        vertical-align: top;\n    }\n\n    .dataframe thead th {\n        text-align: right;\n    }\n</style>\n<table border=\"1\" class=\"dataframe\">\n  <thead>\n    <tr style=\"text-align: right;\">\n      <th></th>\n      <th>Rainfall</th>\n    </tr>\n  </thead>\n  <tbody>\n    <tr>\n      <th>England</th>\n      <td>15</td>\n    </tr>\n    <tr>\n      <th>France</th>\n      <td>12</td>\n    </tr>\n  </tbody>\n</table>\n</div>"
          },
          "metadata": {}
        }
      ]
    },
    {
      "cell_type": "markdown",
      "source": "<br>",
      "metadata": {}
    },
    {
      "cell_type": "markdown",
      "source": "## Boolean Arrays",
      "metadata": {}
    },
    {
      "cell_type": "code",
      "source": "df",
      "metadata": {
        "trusted": true
      },
      "execution_count": 54,
      "outputs": [
        {
          "execution_count": 54,
          "output_type": "execute_result",
          "data": {
            "text/plain": "         Rainfall  Temperature  Wind\nEngland        15           10    20\nFrance         12           13     5\nGermany        11           14     7",
            "text/html": "<div>\n<style scoped>\n    .dataframe tbody tr th:only-of-type {\n        vertical-align: middle;\n    }\n\n    .dataframe tbody tr th {\n        vertical-align: top;\n    }\n\n    .dataframe thead th {\n        text-align: right;\n    }\n</style>\n<table border=\"1\" class=\"dataframe\">\n  <thead>\n    <tr style=\"text-align: right;\">\n      <th></th>\n      <th>Rainfall</th>\n      <th>Temperature</th>\n      <th>Wind</th>\n    </tr>\n  </thead>\n  <tbody>\n    <tr>\n      <th>England</th>\n      <td>15</td>\n      <td>10</td>\n      <td>20</td>\n    </tr>\n    <tr>\n      <th>France</th>\n      <td>12</td>\n      <td>13</td>\n      <td>5</td>\n    </tr>\n    <tr>\n      <th>Germany</th>\n      <td>11</td>\n      <td>14</td>\n      <td>7</td>\n    </tr>\n  </tbody>\n</table>\n</div>"
          },
          "metadata": {}
        }
      ]
    },
    {
      "cell_type": "code",
      "source": "df['Wind'] > 6",
      "metadata": {
        "trusted": true
      },
      "execution_count": 57,
      "outputs": [
        {
          "execution_count": 57,
          "output_type": "execute_result",
          "data": {
            "text/plain": "England     True\nFrance     False\nGermany     True\nName: Wind, dtype: bool"
          },
          "metadata": {}
        }
      ]
    },
    {
      "cell_type": "code",
      "source": "df[df['Wind'] > 6]",
      "metadata": {
        "trusted": true
      },
      "execution_count": 56,
      "outputs": [
        {
          "execution_count": 56,
          "output_type": "execute_result",
          "data": {
            "text/plain": "         Rainfall  Temperature  Wind\nEngland        15           10    20\nGermany        11           14     7",
            "text/html": "<div>\n<style scoped>\n    .dataframe tbody tr th:only-of-type {\n        vertical-align: middle;\n    }\n\n    .dataframe tbody tr th {\n        vertical-align: top;\n    }\n\n    .dataframe thead th {\n        text-align: right;\n    }\n</style>\n<table border=\"1\" class=\"dataframe\">\n  <thead>\n    <tr style=\"text-align: right;\">\n      <th></th>\n      <th>Rainfall</th>\n      <th>Temperature</th>\n      <th>Wind</th>\n    </tr>\n  </thead>\n  <tbody>\n    <tr>\n      <th>England</th>\n      <td>15</td>\n      <td>10</td>\n      <td>20</td>\n    </tr>\n    <tr>\n      <th>Germany</th>\n      <td>11</td>\n      <td>14</td>\n      <td>7</td>\n    </tr>\n  </tbody>\n</table>\n</div>"
          },
          "metadata": {}
        }
      ]
    },
    {
      "cell_type": "code",
      "source": "df.loc[df['Wind'] > 6, ['Wind']]",
      "metadata": {
        "trusted": true
      },
      "execution_count": 58,
      "outputs": [
        {
          "execution_count": 58,
          "output_type": "execute_result",
          "data": {
            "text/plain": "         Wind\nEngland    20\nGermany     7",
            "text/html": "<div>\n<style scoped>\n    .dataframe tbody tr th:only-of-type {\n        vertical-align: middle;\n    }\n\n    .dataframe tbody tr th {\n        vertical-align: top;\n    }\n\n    .dataframe thead th {\n        text-align: right;\n    }\n</style>\n<table border=\"1\" class=\"dataframe\">\n  <thead>\n    <tr style=\"text-align: right;\">\n      <th></th>\n      <th>Wind</th>\n    </tr>\n  </thead>\n  <tbody>\n    <tr>\n      <th>England</th>\n      <td>20</td>\n    </tr>\n    <tr>\n      <th>Germany</th>\n      <td>7</td>\n    </tr>\n  </tbody>\n</table>\n</div>"
          },
          "metadata": {}
        }
      ]
    },
    {
      "cell_type": "markdown",
      "source": "<br>",
      "metadata": {}
    },
    {
      "cell_type": "markdown",
      "source": "## Dropping",
      "metadata": {}
    },
    {
      "cell_type": "code",
      "source": "df.drop(['Germany'])",
      "metadata": {
        "trusted": true
      },
      "execution_count": 59,
      "outputs": [
        {
          "execution_count": 59,
          "output_type": "execute_result",
          "data": {
            "text/plain": "         Rainfall  Temperature  Wind\nEngland        15           10    20\nFrance         12           13     5",
            "text/html": "<div>\n<style scoped>\n    .dataframe tbody tr th:only-of-type {\n        vertical-align: middle;\n    }\n\n    .dataframe tbody tr th {\n        vertical-align: top;\n    }\n\n    .dataframe thead th {\n        text-align: right;\n    }\n</style>\n<table border=\"1\" class=\"dataframe\">\n  <thead>\n    <tr style=\"text-align: right;\">\n      <th></th>\n      <th>Rainfall</th>\n      <th>Temperature</th>\n      <th>Wind</th>\n    </tr>\n  </thead>\n  <tbody>\n    <tr>\n      <th>England</th>\n      <td>15</td>\n      <td>10</td>\n      <td>20</td>\n    </tr>\n    <tr>\n      <th>France</th>\n      <td>12</td>\n      <td>13</td>\n      <td>5</td>\n    </tr>\n  </tbody>\n</table>\n</div>"
          },
          "metadata": {}
        }
      ]
    },
    {
      "cell_type": "markdown",
      "source": "Same as previously, this doesn't permanently modify the dataframe",
      "metadata": {}
    },
    {
      "cell_type": "markdown",
      "source": "<br>\n\n#### Operations",
      "metadata": {}
    },
    {
      "cell_type": "code",
      "source": "df[['Wind']] * 1.6",
      "metadata": {
        "trusted": true
      },
      "execution_count": 61,
      "outputs": [
        {
          "execution_count": 61,
          "output_type": "execute_result",
          "data": {
            "text/plain": "         Wind\nEngland  32.0\nFrance    8.0\nGermany  11.2",
            "text/html": "<div>\n<style scoped>\n    .dataframe tbody tr th:only-of-type {\n        vertical-align: middle;\n    }\n\n    .dataframe tbody tr th {\n        vertical-align: top;\n    }\n\n    .dataframe thead th {\n        text-align: right;\n    }\n</style>\n<table border=\"1\" class=\"dataframe\">\n  <thead>\n    <tr style=\"text-align: right;\">\n      <th></th>\n      <th>Wind</th>\n    </tr>\n  </thead>\n  <tbody>\n    <tr>\n      <th>England</th>\n      <td>32.0</td>\n    </tr>\n    <tr>\n      <th>France</th>\n      <td>8.0</td>\n    </tr>\n    <tr>\n      <th>Germany</th>\n      <td>11.2</td>\n    </tr>\n  </tbody>\n</table>\n</div>"
          },
          "metadata": {}
        }
      ]
    },
    {
      "cell_type": "markdown",
      "source": "Example of converting wind in say mph to kmh",
      "metadata": {}
    },
    {
      "cell_type": "markdown",
      "source": "<br>\n<br>\n\n## Modifying the data frame\n#### You can use a series to add a new column:",
      "metadata": {}
    },
    {
      "cell_type": "code",
      "source": "UV = pd.Series(\n    [1, 3],\n    index = ['England', 'Germany'])\ndf['UV'] = UV",
      "metadata": {
        "trusted": true
      },
      "execution_count": 65,
      "outputs": []
    },
    {
      "cell_type": "code",
      "source": "df",
      "metadata": {
        "trusted": true
      },
      "execution_count": 66,
      "outputs": [
        {
          "execution_count": 66,
          "output_type": "execute_result",
          "data": {
            "text/plain": "         Rainfall  Temperature  Wind   UV\nEngland        15           10    20  1.0\nFrance         12           13     5  NaN\nGermany        11           14     7  3.0",
            "text/html": "<div>\n<style scoped>\n    .dataframe tbody tr th:only-of-type {\n        vertical-align: middle;\n    }\n\n    .dataframe tbody tr th {\n        vertical-align: top;\n    }\n\n    .dataframe thead th {\n        text-align: right;\n    }\n</style>\n<table border=\"1\" class=\"dataframe\">\n  <thead>\n    <tr style=\"text-align: right;\">\n      <th></th>\n      <th>Rainfall</th>\n      <th>Temperature</th>\n      <th>Wind</th>\n      <th>UV</th>\n    </tr>\n  </thead>\n  <tbody>\n    <tr>\n      <th>England</th>\n      <td>15</td>\n      <td>10</td>\n      <td>20</td>\n      <td>1.0</td>\n    </tr>\n    <tr>\n      <th>France</th>\n      <td>12</td>\n      <td>13</td>\n      <td>5</td>\n      <td>NaN</td>\n    </tr>\n    <tr>\n      <th>Germany</th>\n      <td>11</td>\n      <td>14</td>\n      <td>7</td>\n      <td>3.0</td>\n    </tr>\n  </tbody>\n</table>\n</div>"
          },
          "metadata": {}
        }
      ]
    },
    {
      "cell_type": "markdown",
      "source": "Renaming colums / indexes",
      "metadata": {}
    },
    {
      "cell_type": "code",
      "source": "df.rename(\n    columns = {\n        'Temperature': 'Temp'\n    })",
      "metadata": {
        "trusted": true
      },
      "execution_count": 70,
      "outputs": [
        {
          "execution_count": 70,
          "output_type": "execute_result",
          "data": {
            "text/plain": "         Rainfall  Temp  Wind   UV\nEngland        15    10    20  1.0\nFrance         12    13     5  NaN\nGermany        11    14     7  3.0",
            "text/html": "<div>\n<style scoped>\n    .dataframe tbody tr th:only-of-type {\n        vertical-align: middle;\n    }\n\n    .dataframe tbody tr th {\n        vertical-align: top;\n    }\n\n    .dataframe thead th {\n        text-align: right;\n    }\n</style>\n<table border=\"1\" class=\"dataframe\">\n  <thead>\n    <tr style=\"text-align: right;\">\n      <th></th>\n      <th>Rainfall</th>\n      <th>Temp</th>\n      <th>Wind</th>\n      <th>UV</th>\n    </tr>\n  </thead>\n  <tbody>\n    <tr>\n      <th>England</th>\n      <td>15</td>\n      <td>10</td>\n      <td>20</td>\n      <td>1.0</td>\n    </tr>\n    <tr>\n      <th>France</th>\n      <td>12</td>\n      <td>13</td>\n      <td>5</td>\n      <td>NaN</td>\n    </tr>\n    <tr>\n      <th>Germany</th>\n      <td>11</td>\n      <td>14</td>\n      <td>7</td>\n      <td>3.0</td>\n    </tr>\n  </tbody>\n</table>\n</div>"
          },
          "metadata": {}
        }
      ]
    },
    {
      "cell_type": "markdown",
      "source": "Making new columns using current columns",
      "metadata": {}
    },
    {
      "cell_type": "code",
      "source": "df['UV per Temp'] = df['UV'] / df['Temperature']",
      "metadata": {
        "trusted": true
      },
      "execution_count": 71,
      "outputs": []
    },
    {
      "cell_type": "code",
      "source": "df",
      "metadata": {
        "trusted": true
      },
      "execution_count": 72,
      "outputs": [
        {
          "execution_count": 72,
          "output_type": "execute_result",
          "data": {
            "text/plain": "         Rainfall  Temperature  Wind   UV  UV per Temp\nEngland        15           10    20  1.0     0.100000\nFrance         12           13     5  NaN          NaN\nGermany        11           14     7  3.0     0.214286",
            "text/html": "<div>\n<style scoped>\n    .dataframe tbody tr th:only-of-type {\n        vertical-align: middle;\n    }\n\n    .dataframe tbody tr th {\n        vertical-align: top;\n    }\n\n    .dataframe thead th {\n        text-align: right;\n    }\n</style>\n<table border=\"1\" class=\"dataframe\">\n  <thead>\n    <tr style=\"text-align: right;\">\n      <th></th>\n      <th>Rainfall</th>\n      <th>Temperature</th>\n      <th>Wind</th>\n      <th>UV</th>\n      <th>UV per Temp</th>\n    </tr>\n  </thead>\n  <tbody>\n    <tr>\n      <th>England</th>\n      <td>15</td>\n      <td>10</td>\n      <td>20</td>\n      <td>1.0</td>\n      <td>0.100000</td>\n    </tr>\n    <tr>\n      <th>France</th>\n      <td>12</td>\n      <td>13</td>\n      <td>5</td>\n      <td>NaN</td>\n      <td>NaN</td>\n    </tr>\n    <tr>\n      <th>Germany</th>\n      <td>11</td>\n      <td>14</td>\n      <td>7</td>\n      <td>3.0</td>\n      <td>0.214286</td>\n    </tr>\n  </tbody>\n</table>\n</div>"
          },
          "metadata": {}
        }
      ]
    },
    {
      "cell_type": "code",
      "source": "df.describe()",
      "metadata": {
        "trusted": true
      },
      "execution_count": 74,
      "outputs": [
        {
          "execution_count": 74,
          "output_type": "execute_result",
          "data": {
            "text/plain": "        Rainfall  Temperature       Wind        UV  UV per Temp\ncount   3.000000     3.000000   3.000000  2.000000     2.000000\nmean   12.666667    12.333333  10.666667  2.000000     0.157143\nstd     2.081666     2.081666   8.144528  1.414214     0.080812\nmin    11.000000    10.000000   5.000000  1.000000     0.100000\n25%    11.500000    11.500000   6.000000  1.500000     0.128571\n50%    12.000000    13.000000   7.000000  2.000000     0.157143\n75%    13.500000    13.500000  13.500000  2.500000     0.185714\nmax    15.000000    14.000000  20.000000  3.000000     0.214286",
            "text/html": "<div>\n<style scoped>\n    .dataframe tbody tr th:only-of-type {\n        vertical-align: middle;\n    }\n\n    .dataframe tbody tr th {\n        vertical-align: top;\n    }\n\n    .dataframe thead th {\n        text-align: right;\n    }\n</style>\n<table border=\"1\" class=\"dataframe\">\n  <thead>\n    <tr style=\"text-align: right;\">\n      <th></th>\n      <th>Rainfall</th>\n      <th>Temperature</th>\n      <th>Wind</th>\n      <th>UV</th>\n      <th>UV per Temp</th>\n    </tr>\n  </thead>\n  <tbody>\n    <tr>\n      <th>count</th>\n      <td>3.000000</td>\n      <td>3.000000</td>\n      <td>3.000000</td>\n      <td>2.000000</td>\n      <td>2.000000</td>\n    </tr>\n    <tr>\n      <th>mean</th>\n      <td>12.666667</td>\n      <td>12.333333</td>\n      <td>10.666667</td>\n      <td>2.000000</td>\n      <td>0.157143</td>\n    </tr>\n    <tr>\n      <th>std</th>\n      <td>2.081666</td>\n      <td>2.081666</td>\n      <td>8.144528</td>\n      <td>1.414214</td>\n      <td>0.080812</td>\n    </tr>\n    <tr>\n      <th>min</th>\n      <td>11.000000</td>\n      <td>10.000000</td>\n      <td>5.000000</td>\n      <td>1.000000</td>\n      <td>0.100000</td>\n    </tr>\n    <tr>\n      <th>25%</th>\n      <td>11.500000</td>\n      <td>11.500000</td>\n      <td>6.000000</td>\n      <td>1.500000</td>\n      <td>0.128571</td>\n    </tr>\n    <tr>\n      <th>50%</th>\n      <td>12.000000</td>\n      <td>13.000000</td>\n      <td>7.000000</td>\n      <td>2.000000</td>\n      <td>0.157143</td>\n    </tr>\n    <tr>\n      <th>75%</th>\n      <td>13.500000</td>\n      <td>13.500000</td>\n      <td>13.500000</td>\n      <td>2.500000</td>\n      <td>0.185714</td>\n    </tr>\n    <tr>\n      <th>max</th>\n      <td>15.000000</td>\n      <td>14.000000</td>\n      <td>20.000000</td>\n      <td>3.000000</td>\n      <td>0.214286</td>\n    </tr>\n  </tbody>\n</table>\n</div>"
          },
          "metadata": {}
        }
      ]
    },
    {
      "cell_type": "markdown",
      "source": "<br>\n<br>",
      "metadata": {}
    },
    {
      "cell_type": "code",
      "source": "",
      "metadata": {},
      "execution_count": null,
      "outputs": []
    }
  ]
}
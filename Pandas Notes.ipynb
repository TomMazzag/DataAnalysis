{
  "metadata": {
    "language_info": {
      "codemirror_mode": {
        "name": "python",
        "version": 3
      },
      "file_extension": ".py",
      "mimetype": "text/x-python",
      "name": "python",
      "nbconvert_exporter": "python",
      "pygments_lexer": "ipython3",
      "version": "3.8"
    },
    "kernelspec": {
      "name": "python",
      "display_name": "Python (Pyodide)",
      "language": "python"
    },
    "colab": {
      "provenance": []
    }
  },
  "nbformat_minor": 0,
  "nbformat": 4,
  "cells": [
    {
      "cell_type": "markdown",
      "source": [
        "[![Open In Colab](https://colab.research.google.com/assets/colab-badge.svg)](https://colab.research.google.com/github/TomMazzag/DataAnalysis/blob/main/Pandas%20Notes.ipynb)"
      ],
      "metadata": {
        "id": "k8rYyb1A8sia"
      }
    },
    {
      "cell_type": "markdown",
      "source": [
        "# Pandas"
      ],
      "metadata": {
        "id": "mDHmaDzG4oa-"
      }
    },
    {
      "cell_type": "code",
      "source": [
        "import numpy as np\n",
        "import pandas as pd"
      ],
      "metadata": {
        "trusted": true,
        "id": "w8xe9xjL4obA"
      },
      "execution_count": null,
      "outputs": []
    },
    {
      "cell_type": "markdown",
      "source": [
        "### Pandas data tpyes"
      ],
      "metadata": {
        "id": "cB-n_uqY4obB"
      }
    },
    {
      "cell_type": "code",
      "source": [
        "test = pd.Series([12.4, 11.4, 8.3, 7.1, 18.2])\n",
        "test"
      ],
      "metadata": {
        "trusted": true,
        "id": "DwpX9M8n4obC",
        "outputId": "c1a53e49-1ea8-4d63-8e7e-6c24133cf8a8"
      },
      "execution_count": null,
      "outputs": [
        {
          "execution_count": 3,
          "output_type": "execute_result",
          "data": {
            "text/plain": "0    12.4\n1    11.4\n2     8.3\n3     7.1\n4    18.2\ndtype: float64"
          },
          "metadata": {}
        }
      ]
    },
    {
      "cell_type": "markdown",
      "source": [
        "As shown the series automatically asigns a data type"
      ],
      "metadata": {
        "id": "BkCATbQ64obC"
      }
    },
    {
      "cell_type": "markdown",
      "source": [
        "With a series you can give the series a name to describe it"
      ],
      "metadata": {
        "id": "akOL6cfF4obC"
      }
    },
    {
      "cell_type": "code",
      "source": [
        "test.name = 'Example Data'\n",
        "test"
      ],
      "metadata": {
        "trusted": true,
        "id": "UjO3l3kz4obD",
        "outputId": "7ee58ff3-e398-4d8a-8641-e227df9e6258"
      },
      "execution_count": null,
      "outputs": [
        {
          "execution_count": 4,
          "output_type": "execute_result",
          "data": {
            "text/plain": "0    12.4\n1    11.4\n2     8.3\n3     7.1\n4    18.2\nName: Example Data, dtype: float64"
          },
          "metadata": {}
        }
      ]
    },
    {
      "cell_type": "code",
      "source": [
        "test.values"
      ],
      "metadata": {
        "trusted": true,
        "id": "ylU5Rnxh4obD",
        "outputId": "6f9680d9-e732-4cc5-c5b5-cb2afdc48df9"
      },
      "execution_count": null,
      "outputs": [
        {
          "execution_count": 5,
          "output_type": "execute_result",
          "data": {
            "text/plain": "array([12.4, 11.4,  8.3,  7.1, 18.2])"
          },
          "metadata": {}
        }
      ]
    },
    {
      "cell_type": "markdown",
      "source": [
        "#### Same as a regular list individual elements can be selected"
      ],
      "metadata": {
        "id": "8j-x5TzQ4obD"
      }
    },
    {
      "cell_type": "code",
      "source": [
        "test[3]"
      ],
      "metadata": {
        "trusted": true,
        "id": "CTOmKPew4obD",
        "outputId": "af893ec9-fe1e-4df3-e0bf-0b69aa8b1ce8"
      },
      "execution_count": null,
      "outputs": [
        {
          "execution_count": 6,
          "output_type": "execute_result",
          "data": {
            "text/plain": "7.1"
          },
          "metadata": {}
        }
      ]
    },
    {
      "cell_type": "markdown",
      "source": [
        "#### The index of a series can however be changed like so"
      ],
      "metadata": {
        "id": "IG71RySA4obD"
      }
    },
    {
      "cell_type": "code",
      "source": [
        "test.index = [\n",
        "    'First',\n",
        "    'Second',\n",
        "    'Third',\n",
        "    'Fourth',\n",
        "    'Fifth'\n",
        "]\n",
        "test"
      ],
      "metadata": {
        "trusted": true,
        "id": "12DcqD7x4obD",
        "outputId": "beced3c5-a7a5-476c-c9ad-30c7ca9d7dff"
      },
      "execution_count": null,
      "outputs": [
        {
          "execution_count": 7,
          "output_type": "execute_result",
          "data": {
            "text/plain": "First     12.4\nSecond    11.4\nThird      8.3\nFourth     7.1\nFifth     18.2\nName: Example Data, dtype: float64"
          },
          "metadata": {}
        }
      ]
    },
    {
      "cell_type": "markdown",
      "source": [
        "The series can be created with custom indexes and name from the start if prefered"
      ],
      "metadata": {
        "id": "S-pvcI-g4obE"
      }
    },
    {
      "cell_type": "code",
      "source": [
        "test2 = pd.Series(\n",
        "    [(255, 0, 0), (0, 255, 0), (0, 0, 255)],\n",
        "    index = ['Red', 'Green', 'Blue'],\n",
        "    name = 'RGB'\n",
        ")\n",
        "test2"
      ],
      "metadata": {
        "trusted": true,
        "id": "jaUnmUho4obE",
        "outputId": "49277a91-b576-4729-8b60-485739d554dd"
      },
      "execution_count": null,
      "outputs": [
        {
          "execution_count": 9,
          "output_type": "execute_result",
          "data": {
            "text/plain": "Red      (255, 0, 0)\nGreen    (0, 255, 0)\nBlue     (0, 0, 255)\nName: RGB, dtype: object"
          },
          "metadata": {}
        }
      ]
    },
    {
      "cell_type": "code",
      "source": [
        "test2['Blue']"
      ],
      "metadata": {
        "trusted": true,
        "id": "tEeyYVzH4obE",
        "outputId": "7d78a7c7-bf9f-4664-9b43-3b23d7470989"
      },
      "execution_count": null,
      "outputs": [
        {
          "execution_count": 10,
          "output_type": "execute_result",
          "data": {
            "text/plain": "(0, 0, 255)"
          },
          "metadata": {}
        }
      ]
    },
    {
      "cell_type": "code",
      "source": [
        "test2[['Green', 'Red']]"
      ],
      "metadata": {
        "trusted": true,
        "id": "1NKrHnni4obE",
        "outputId": "3dbf104a-b4fc-4db7-dfdb-479eb3c038c3"
      },
      "execution_count": null,
      "outputs": [
        {
          "execution_count": 17,
          "output_type": "execute_result",
          "data": {
            "text/plain": "Green    (0, 255, 0)\nRed      (255, 0, 0)\nName: RGB, dtype: object"
          },
          "metadata": {}
        }
      ]
    },
    {
      "cell_type": "markdown",
      "source": [
        "#### In pandas the upper limit of a list is included vs python"
      ],
      "metadata": {
        "id": "BSIH1oc34obE"
      }
    },
    {
      "cell_type": "code",
      "source": [
        "l = [1, 2, 3, 4]\n",
        "print(l[:2])\n",
        "test2['Red':'Blue']"
      ],
      "metadata": {
        "trusted": true,
        "id": "vLm-WP0_4obE",
        "outputId": "4f627e9a-440a-4242-bf8d-9b436df96cb6"
      },
      "execution_count": null,
      "outputs": [
        {
          "name": "stdout",
          "text": "[1, 2]\n",
          "output_type": "stream"
        },
        {
          "execution_count": 21,
          "output_type": "execute_result",
          "data": {
            "text/plain": "Red      (255, 0, 0)\nGreen    (0, 255, 0)\nBlue     (0, 0, 255)\nName: RGB, dtype: object"
          },
          "metadata": {}
        }
      ]
    },
    {
      "cell_type": "markdown",
      "source": [
        "# Boolean series"
      ],
      "metadata": {
        "id": "JHiECAli4obE"
      }
    },
    {
      "cell_type": "markdown",
      "source": [
        "Same as Numpy, operations can be used on the series:"
      ],
      "metadata": {
        "id": "WFyCA5s74obE"
      }
    },
    {
      "cell_type": "code",
      "source": [
        "test * 10"
      ],
      "metadata": {
        "trusted": true,
        "id": "DrIF4czT4obE",
        "outputId": "d234bd65-e0ca-4373-ac29-8f711cf9ba23"
      },
      "execution_count": null,
      "outputs": [
        {
          "execution_count": 22,
          "output_type": "execute_result",
          "data": {
            "text/plain": "First     124.0\nSecond    114.0\nThird      83.0\nFourth     71.0\nFifth     182.0\nName: Example Data, dtype: float64"
          },
          "metadata": {}
        }
      ]
    },
    {
      "cell_type": "code",
      "source": [
        "(test * 10).mean()"
      ],
      "metadata": {
        "trusted": true,
        "id": "8LFghq-z4obE",
        "outputId": "e35735d0-c45b-4e53-ebf8-c3707c1d8751"
      },
      "execution_count": null,
      "outputs": [
        {
          "execution_count": 24,
          "output_type": "execute_result",
          "data": {
            "text/plain": "114.8"
          },
          "metadata": {}
        }
      ]
    },
    {
      "cell_type": "code",
      "source": [
        "test"
      ],
      "metadata": {
        "trusted": true,
        "id": "u9LY-YMs4obE",
        "outputId": "c81f54eb-547a-460f-be3d-622afa5ca975"
      },
      "execution_count": null,
      "outputs": [
        {
          "execution_count": 25,
          "output_type": "execute_result",
          "data": {
            "text/plain": "First     12.4\nSecond    11.4\nThird      8.3\nFourth     7.1\nFifth     18.2\nName: Example Data, dtype: float64"
          },
          "metadata": {}
        }
      ]
    },
    {
      "cell_type": "code",
      "source": [
        "test > 12"
      ],
      "metadata": {
        "trusted": true,
        "id": "0yUUIXdP4obF",
        "outputId": "e3a17aeb-9a1d-46f9-d09a-a6f1e08c0537"
      },
      "execution_count": null,
      "outputs": [
        {
          "execution_count": 26,
          "output_type": "execute_result",
          "data": {
            "text/plain": "First      True\nSecond    False\nThird     False\nFourth    False\nFifth      True\nName: Example Data, dtype: bool"
          },
          "metadata": {}
        }
      ]
    },
    {
      "cell_type": "code",
      "source": [
        "test[test > 12]"
      ],
      "metadata": {
        "trusted": true,
        "id": "BSBnSwIr4obF",
        "outputId": "15c94cf2-6d28-4d21-c224-1b6aa833d184"
      },
      "execution_count": null,
      "outputs": [
        {
          "execution_count": 27,
          "output_type": "execute_result",
          "data": {
            "text/plain": "First    12.4\nFifth    18.2\nName: Example Data, dtype: float64"
          },
          "metadata": {}
        }
      ]
    },
    {
      "cell_type": "code",
      "source": [
        "test[(test > 8) & (test < 12)]"
      ],
      "metadata": {
        "trusted": true,
        "id": "2iDKo9w_4obF",
        "outputId": "6582fa7f-2122-40b9-cd28-235adde3852d"
      },
      "execution_count": null,
      "outputs": [
        {
          "execution_count": 29,
          "output_type": "execute_result",
          "data": {
            "text/plain": "Second    11.4\nThird      8.3\nName: Example Data, dtype: float64"
          },
          "metadata": {}
        }
      ]
    },
    {
      "cell_type": "markdown",
      "source": [
        "### Modifying Series"
      ],
      "metadata": {
        "id": "r1_Sf3wz4obF"
      }
    },
    {
      "cell_type": "code",
      "source": [
        "test['Third'] = 19.2\n",
        "test"
      ],
      "metadata": {
        "trusted": true,
        "id": "6Cr2lBXE4obF",
        "outputId": "9e3f935e-82ad-4eef-d653-7b64f308bd65"
      },
      "execution_count": null,
      "outputs": [
        {
          "execution_count": 32,
          "output_type": "execute_result",
          "data": {
            "text/plain": "First     12.4\nSecond    11.4\nThird     19.2\nFourth     7.1\nFifth     18.2\nName: Example Data, dtype: float64"
          },
          "metadata": {}
        }
      ]
    },
    {
      "cell_type": "code",
      "source": [
        "test[test > 19] = 20\n",
        "test"
      ],
      "metadata": {
        "trusted": true,
        "id": "eWz7m6T34obF",
        "outputId": "821a4b0b-041c-49f0-acfc-4a7f03293914"
      },
      "execution_count": null,
      "outputs": [
        {
          "execution_count": 33,
          "output_type": "execute_result",
          "data": {
            "text/plain": "First     12.4\nSecond    11.4\nThird     20.0\nFourth     7.1\nFifth     18.2\nName: Example Data, dtype: float64"
          },
          "metadata": {}
        }
      ]
    },
    {
      "cell_type": "markdown",
      "source": [
        "<br>\n",
        "<br>\n",
        "<br>\n",
        "<br>\n",
        "\n",
        "# Data Frames"
      ],
      "metadata": {
        "id": "K-N8M5P74obF"
      }
    },
    {
      "cell_type": "markdown",
      "source": [
        "A data frame is more like a table"
      ],
      "metadata": {
        "id": "xrrgMaCz4obF"
      }
    },
    {
      "cell_type": "markdown",
      "source": [
        "Data frames will most likely be pulled from as csv as manually creating one is more tedious"
      ],
      "metadata": {
        "id": "L-e5V2Mn4obF"
      }
    },
    {
      "cell_type": "code",
      "source": [
        "df = pd.DataFrame({\n",
        "    'Rainfall': [15, 12, 11],\n",
        "    'Temperature': [10, 13, 14],\n",
        "    'Wind': [20, 5, 7],\n",
        "}, \n",
        "columns = ['Rainfall', 'Temperature', 'Wind'],\n",
        "index = ['England', 'France', 'Germany'])\n",
        "\n",
        "df"
      ],
      "metadata": {
        "trusted": true,
        "id": "vUx21X4p4obF",
        "outputId": "8c01a155-5702-42db-b49d-38e27f4f78b1"
      },
      "execution_count": null,
      "outputs": [
        {
          "execution_count": 39,
          "output_type": "execute_result",
          "data": {
            "text/plain": "         Rainfall  Temperature  Wind\nEngland        15           10    20\nFrance         12           13     5\nGermany        11           14     7",
            "text/html": "<div>\n<style scoped>\n    .dataframe tbody tr th:only-of-type {\n        vertical-align: middle;\n    }\n\n    .dataframe tbody tr th {\n        vertical-align: top;\n    }\n\n    .dataframe thead th {\n        text-align: right;\n    }\n</style>\n<table border=\"1\" class=\"dataframe\">\n  <thead>\n    <tr style=\"text-align: right;\">\n      <th></th>\n      <th>Rainfall</th>\n      <th>Temperature</th>\n      <th>Wind</th>\n    </tr>\n  </thead>\n  <tbody>\n    <tr>\n      <th>England</th>\n      <td>15</td>\n      <td>10</td>\n      <td>20</td>\n    </tr>\n    <tr>\n      <th>France</th>\n      <td>12</td>\n      <td>13</td>\n      <td>5</td>\n    </tr>\n    <tr>\n      <th>Germany</th>\n      <td>11</td>\n      <td>14</td>\n      <td>7</td>\n    </tr>\n  </tbody>\n</table>\n</div>"
          },
          "metadata": {}
        }
      ]
    },
    {
      "cell_type": "code",
      "source": [
        "df.info()"
      ],
      "metadata": {
        "trusted": true,
        "id": "XRS8iJdY4obF",
        "outputId": "cd003ad5-417a-4982-8583-8243d317f4bb"
      },
      "execution_count": null,
      "outputs": [
        {
          "name": "stdout",
          "text": "<class 'pandas.core.frame.DataFrame'>\nIndex: 3 entries, England to Germany\nData columns (total 3 columns):\n #   Column       Non-Null Count  Dtype\n---  ------       --------------  -----\n 0   Rainfall     3 non-null      int64\n 1   Temperature  3 non-null      int64\n 2   Wind         3 non-null      int64\ndtypes: int64(3)\nmemory usage: 84.0+ bytes\n",
          "output_type": "stream"
        }
      ]
    },
    {
      "cell_type": "code",
      "source": [
        "df.size"
      ],
      "metadata": {
        "trusted": true,
        "id": "_lJL3J4m4obF",
        "outputId": "7fdf7c42-585a-4994-d951-7537a000ff6b"
      },
      "execution_count": null,
      "outputs": [
        {
          "execution_count": 43,
          "output_type": "execute_result",
          "data": {
            "text/plain": "9"
          },
          "metadata": {}
        }
      ]
    },
    {
      "cell_type": "code",
      "source": [
        "df.shape"
      ],
      "metadata": {
        "trusted": true,
        "id": "tpH2Bz-W4obF",
        "outputId": "c0e2b549-86fb-4e99-9514-bc13549bd3e3"
      },
      "execution_count": null,
      "outputs": [
        {
          "execution_count": 44,
          "output_type": "execute_result",
          "data": {
            "text/plain": "(3, 3)"
          },
          "metadata": {}
        }
      ]
    },
    {
      "cell_type": "code",
      "source": [
        "df.describe()"
      ],
      "metadata": {
        "trusted": true,
        "id": "ujVLSLNd4obF",
        "outputId": "7e366af1-cc39-4675-c45e-74a2309c1551"
      },
      "execution_count": null,
      "outputs": [
        {
          "execution_count": 45,
          "output_type": "execute_result",
          "data": {
            "text/plain": "        Rainfall  Temperature       Wind\ncount   3.000000     3.000000   3.000000\nmean   12.666667    12.333333  10.666667\nstd     2.081666     2.081666   8.144528\nmin    11.000000    10.000000   5.000000\n25%    11.500000    11.500000   6.000000\n50%    12.000000    13.000000   7.000000\n75%    13.500000    13.500000  13.500000\nmax    15.000000    14.000000  20.000000",
            "text/html": "<div>\n<style scoped>\n    .dataframe tbody tr th:only-of-type {\n        vertical-align: middle;\n    }\n\n    .dataframe tbody tr th {\n        vertical-align: top;\n    }\n\n    .dataframe thead th {\n        text-align: right;\n    }\n</style>\n<table border=\"1\" class=\"dataframe\">\n  <thead>\n    <tr style=\"text-align: right;\">\n      <th></th>\n      <th>Rainfall</th>\n      <th>Temperature</th>\n      <th>Wind</th>\n    </tr>\n  </thead>\n  <tbody>\n    <tr>\n      <th>count</th>\n      <td>3.000000</td>\n      <td>3.000000</td>\n      <td>3.000000</td>\n    </tr>\n    <tr>\n      <th>mean</th>\n      <td>12.666667</td>\n      <td>12.333333</td>\n      <td>10.666667</td>\n    </tr>\n    <tr>\n      <th>std</th>\n      <td>2.081666</td>\n      <td>2.081666</td>\n      <td>8.144528</td>\n    </tr>\n    <tr>\n      <th>min</th>\n      <td>11.000000</td>\n      <td>10.000000</td>\n      <td>5.000000</td>\n    </tr>\n    <tr>\n      <th>25%</th>\n      <td>11.500000</td>\n      <td>11.500000</td>\n      <td>6.000000</td>\n    </tr>\n    <tr>\n      <th>50%</th>\n      <td>12.000000</td>\n      <td>13.000000</td>\n      <td>7.000000</td>\n    </tr>\n    <tr>\n      <th>75%</th>\n      <td>13.500000</td>\n      <td>13.500000</td>\n      <td>13.500000</td>\n    </tr>\n    <tr>\n      <th>max</th>\n      <td>15.000000</td>\n      <td>14.000000</td>\n      <td>20.000000</td>\n    </tr>\n  </tbody>\n</table>\n</div>"
          },
          "metadata": {}
        }
      ]
    },
    {
      "cell_type": "code",
      "source": [
        "df.dtypes"
      ],
      "metadata": {
        "trusted": true,
        "id": "Jdd69Fg34obF",
        "outputId": "023833ce-0368-4f56-ff33-abef9f1f4808"
      },
      "execution_count": null,
      "outputs": [
        {
          "execution_count": 46,
          "output_type": "execute_result",
          "data": {
            "text/plain": "Rainfall       int64\nTemperature    int64\nWind           int64\ndtype: object"
          },
          "metadata": {}
        }
      ]
    },
    {
      "cell_type": "markdown",
      "source": [
        "<br>"
      ],
      "metadata": {
        "id": "yjYdq6fO4obF"
      }
    },
    {
      "cell_type": "markdown",
      "source": [
        "#### Indexing, Seleciton and Slicing"
      ],
      "metadata": {
        "id": "M2MXe5874obF"
      }
    },
    {
      "cell_type": "markdown",
      "source": [
        "By Index"
      ],
      "metadata": {
        "id": "5myADs3A4obF"
      }
    },
    {
      "cell_type": "code",
      "source": [
        "df.loc['England']"
      ],
      "metadata": {
        "trusted": true,
        "id": "fQMx-uLq4obG",
        "outputId": "e9cd3d43-f419-4932-dff4-166c41b50728"
      },
      "execution_count": null,
      "outputs": [
        {
          "execution_count": 47,
          "output_type": "execute_result",
          "data": {
            "text/plain": "Rainfall       15\nTemperature    10\nWind           20\nName: England, dtype: int64"
          },
          "metadata": {}
        }
      ]
    },
    {
      "cell_type": "markdown",
      "source": [
        "By Position"
      ],
      "metadata": {
        "id": "1Ir0z-VI4obG"
      }
    },
    {
      "cell_type": "code",
      "source": [
        "df.iloc[1]"
      ],
      "metadata": {
        "trusted": true,
        "id": "IhH9cxsS4obG",
        "outputId": "bcff70e5-d549-457a-fcd5-ca522f2298f2"
      },
      "execution_count": null,
      "outputs": [
        {
          "execution_count": 48,
          "output_type": "execute_result",
          "data": {
            "text/plain": "Rainfall       12\nTemperature    13\nWind            5\nName: France, dtype: int64"
          },
          "metadata": {}
        }
      ]
    },
    {
      "cell_type": "markdown",
      "source": [
        "By Specific"
      ],
      "metadata": {
        "id": "EDYvMP8U4obG"
      }
    },
    {
      "cell_type": "code",
      "source": [
        "df['Temperature']"
      ],
      "metadata": {
        "trusted": true,
        "id": "NFwnLN2w4obG",
        "outputId": "adb3b09e-af3b-44ce-c478-2985a798b493"
      },
      "execution_count": null,
      "outputs": [
        {
          "execution_count": 51,
          "output_type": "execute_result",
          "data": {
            "text/plain": "England    10\nFrance     13\nGermany    14\nName: Temperature, dtype: int64"
          },
          "metadata": {}
        }
      ]
    },
    {
      "cell_type": "markdown",
      "source": [
        "All returned results are examples of series"
      ],
      "metadata": {
        "id": "8wrYNJKp4obG"
      }
    },
    {
      "cell_type": "markdown",
      "source": [
        "Can use same rules as before for series in terms of all from England to France for example\n",
        "<br>\n",
        "You can also get more specific as shown below"
      ],
      "metadata": {
        "id": "xn5OY5NU4obG"
      }
    },
    {
      "cell_type": "code",
      "source": [
        "df.loc['England': 'France', ['Rainfall']]"
      ],
      "metadata": {
        "trusted": true,
        "id": "Nb389JQg4obG",
        "outputId": "1b5eedd3-2833-4711-c550-aadf5c221571"
      },
      "execution_count": null,
      "outputs": [
        {
          "execution_count": 53,
          "output_type": "execute_result",
          "data": {
            "text/plain": "         Rainfall\nEngland        15\nFrance         12",
            "text/html": "<div>\n<style scoped>\n    .dataframe tbody tr th:only-of-type {\n        vertical-align: middle;\n    }\n\n    .dataframe tbody tr th {\n        vertical-align: top;\n    }\n\n    .dataframe thead th {\n        text-align: right;\n    }\n</style>\n<table border=\"1\" class=\"dataframe\">\n  <thead>\n    <tr style=\"text-align: right;\">\n      <th></th>\n      <th>Rainfall</th>\n    </tr>\n  </thead>\n  <tbody>\n    <tr>\n      <th>England</th>\n      <td>15</td>\n    </tr>\n    <tr>\n      <th>France</th>\n      <td>12</td>\n    </tr>\n  </tbody>\n</table>\n</div>"
          },
          "metadata": {}
        }
      ]
    },
    {
      "cell_type": "markdown",
      "source": [
        "<br>"
      ],
      "metadata": {
        "id": "4-N-G6nZ4obG"
      }
    },
    {
      "cell_type": "markdown",
      "source": [
        "## Boolean Arrays"
      ],
      "metadata": {
        "id": "ZOSkSJTk4obG"
      }
    },
    {
      "cell_type": "code",
      "source": [
        "df"
      ],
      "metadata": {
        "trusted": true,
        "id": "T9a8Uscb4obG",
        "outputId": "24f0b942-b1b0-44cc-92e3-144db3e99fe8"
      },
      "execution_count": null,
      "outputs": [
        {
          "execution_count": 54,
          "output_type": "execute_result",
          "data": {
            "text/plain": "         Rainfall  Temperature  Wind\nEngland        15           10    20\nFrance         12           13     5\nGermany        11           14     7",
            "text/html": "<div>\n<style scoped>\n    .dataframe tbody tr th:only-of-type {\n        vertical-align: middle;\n    }\n\n    .dataframe tbody tr th {\n        vertical-align: top;\n    }\n\n    .dataframe thead th {\n        text-align: right;\n    }\n</style>\n<table border=\"1\" class=\"dataframe\">\n  <thead>\n    <tr style=\"text-align: right;\">\n      <th></th>\n      <th>Rainfall</th>\n      <th>Temperature</th>\n      <th>Wind</th>\n    </tr>\n  </thead>\n  <tbody>\n    <tr>\n      <th>England</th>\n      <td>15</td>\n      <td>10</td>\n      <td>20</td>\n    </tr>\n    <tr>\n      <th>France</th>\n      <td>12</td>\n      <td>13</td>\n      <td>5</td>\n    </tr>\n    <tr>\n      <th>Germany</th>\n      <td>11</td>\n      <td>14</td>\n      <td>7</td>\n    </tr>\n  </tbody>\n</table>\n</div>"
          },
          "metadata": {}
        }
      ]
    },
    {
      "cell_type": "code",
      "source": [
        "df['Wind'] > 6"
      ],
      "metadata": {
        "trusted": true,
        "id": "vF7Otm864obG",
        "outputId": "7ec29379-464d-4737-dd26-f174153ff946"
      },
      "execution_count": null,
      "outputs": [
        {
          "execution_count": 57,
          "output_type": "execute_result",
          "data": {
            "text/plain": "England     True\nFrance     False\nGermany     True\nName: Wind, dtype: bool"
          },
          "metadata": {}
        }
      ]
    },
    {
      "cell_type": "code",
      "source": [
        "df[df['Wind'] > 6]"
      ],
      "metadata": {
        "trusted": true,
        "id": "9aoLeBnm4obG",
        "outputId": "1561fa3a-7529-4bc7-e3cb-c8e1354c6b35"
      },
      "execution_count": null,
      "outputs": [
        {
          "execution_count": 56,
          "output_type": "execute_result",
          "data": {
            "text/plain": "         Rainfall  Temperature  Wind\nEngland        15           10    20\nGermany        11           14     7",
            "text/html": "<div>\n<style scoped>\n    .dataframe tbody tr th:only-of-type {\n        vertical-align: middle;\n    }\n\n    .dataframe tbody tr th {\n        vertical-align: top;\n    }\n\n    .dataframe thead th {\n        text-align: right;\n    }\n</style>\n<table border=\"1\" class=\"dataframe\">\n  <thead>\n    <tr style=\"text-align: right;\">\n      <th></th>\n      <th>Rainfall</th>\n      <th>Temperature</th>\n      <th>Wind</th>\n    </tr>\n  </thead>\n  <tbody>\n    <tr>\n      <th>England</th>\n      <td>15</td>\n      <td>10</td>\n      <td>20</td>\n    </tr>\n    <tr>\n      <th>Germany</th>\n      <td>11</td>\n      <td>14</td>\n      <td>7</td>\n    </tr>\n  </tbody>\n</table>\n</div>"
          },
          "metadata": {}
        }
      ]
    },
    {
      "cell_type": "code",
      "source": [
        "df.loc[df['Wind'] > 6, ['Wind']]"
      ],
      "metadata": {
        "trusted": true,
        "id": "c8qMPdZa4obG",
        "outputId": "de215a59-2c3b-48a4-9c20-af61bd64a72b"
      },
      "execution_count": null,
      "outputs": [
        {
          "execution_count": 58,
          "output_type": "execute_result",
          "data": {
            "text/plain": "         Wind\nEngland    20\nGermany     7",
            "text/html": "<div>\n<style scoped>\n    .dataframe tbody tr th:only-of-type {\n        vertical-align: middle;\n    }\n\n    .dataframe tbody tr th {\n        vertical-align: top;\n    }\n\n    .dataframe thead th {\n        text-align: right;\n    }\n</style>\n<table border=\"1\" class=\"dataframe\">\n  <thead>\n    <tr style=\"text-align: right;\">\n      <th></th>\n      <th>Wind</th>\n    </tr>\n  </thead>\n  <tbody>\n    <tr>\n      <th>England</th>\n      <td>20</td>\n    </tr>\n    <tr>\n      <th>Germany</th>\n      <td>7</td>\n    </tr>\n  </tbody>\n</table>\n</div>"
          },
          "metadata": {}
        }
      ]
    },
    {
      "cell_type": "markdown",
      "source": [
        "<br>"
      ],
      "metadata": {
        "id": "5E9oPcpb4obG"
      }
    },
    {
      "cell_type": "markdown",
      "source": [
        "## Dropping"
      ],
      "metadata": {
        "id": "9SdSi6G14obG"
      }
    },
    {
      "cell_type": "code",
      "source": [
        "df.drop(['Germany'])"
      ],
      "metadata": {
        "trusted": true,
        "id": "bpAKdD5K4obG",
        "outputId": "335ccba4-4e2f-42b8-f619-9aea82d95de5"
      },
      "execution_count": null,
      "outputs": [
        {
          "execution_count": 59,
          "output_type": "execute_result",
          "data": {
            "text/plain": "         Rainfall  Temperature  Wind\nEngland        15           10    20\nFrance         12           13     5",
            "text/html": "<div>\n<style scoped>\n    .dataframe tbody tr th:only-of-type {\n        vertical-align: middle;\n    }\n\n    .dataframe tbody tr th {\n        vertical-align: top;\n    }\n\n    .dataframe thead th {\n        text-align: right;\n    }\n</style>\n<table border=\"1\" class=\"dataframe\">\n  <thead>\n    <tr style=\"text-align: right;\">\n      <th></th>\n      <th>Rainfall</th>\n      <th>Temperature</th>\n      <th>Wind</th>\n    </tr>\n  </thead>\n  <tbody>\n    <tr>\n      <th>England</th>\n      <td>15</td>\n      <td>10</td>\n      <td>20</td>\n    </tr>\n    <tr>\n      <th>France</th>\n      <td>12</td>\n      <td>13</td>\n      <td>5</td>\n    </tr>\n  </tbody>\n</table>\n</div>"
          },
          "metadata": {}
        }
      ]
    },
    {
      "cell_type": "markdown",
      "source": [
        "Same as previously, this doesn't permanently modify the dataframe"
      ],
      "metadata": {
        "id": "RTEDCu3L4obG"
      }
    },
    {
      "cell_type": "markdown",
      "source": [
        "<br>\n",
        "\n",
        "#### Operations"
      ],
      "metadata": {
        "id": "uDHSbJjQ4obH"
      }
    },
    {
      "cell_type": "code",
      "source": [
        "df[['Wind']] * 1.6"
      ],
      "metadata": {
        "trusted": true,
        "id": "5rXxE5yF4obH",
        "outputId": "c022926f-fc1d-4a92-ab99-42ff21598017"
      },
      "execution_count": null,
      "outputs": [
        {
          "execution_count": 61,
          "output_type": "execute_result",
          "data": {
            "text/plain": "         Wind\nEngland  32.0\nFrance    8.0\nGermany  11.2",
            "text/html": "<div>\n<style scoped>\n    .dataframe tbody tr th:only-of-type {\n        vertical-align: middle;\n    }\n\n    .dataframe tbody tr th {\n        vertical-align: top;\n    }\n\n    .dataframe thead th {\n        text-align: right;\n    }\n</style>\n<table border=\"1\" class=\"dataframe\">\n  <thead>\n    <tr style=\"text-align: right;\">\n      <th></th>\n      <th>Wind</th>\n    </tr>\n  </thead>\n  <tbody>\n    <tr>\n      <th>England</th>\n      <td>32.0</td>\n    </tr>\n    <tr>\n      <th>France</th>\n      <td>8.0</td>\n    </tr>\n    <tr>\n      <th>Germany</th>\n      <td>11.2</td>\n    </tr>\n  </tbody>\n</table>\n</div>"
          },
          "metadata": {}
        }
      ]
    },
    {
      "cell_type": "markdown",
      "source": [
        "Example of converting wind in say mph to kmh"
      ],
      "metadata": {
        "id": "SaZZNTRb4obH"
      }
    },
    {
      "cell_type": "markdown",
      "source": [
        "<br>\n",
        "<br>\n",
        "\n",
        "## Modifying the data frame\n",
        "#### You can use a series to add a new column:"
      ],
      "metadata": {
        "id": "aiyB-YCu4obH"
      }
    },
    {
      "cell_type": "code",
      "source": [
        "UV = pd.Series(\n",
        "    [1, 3],\n",
        "    index = ['England', 'Germany'])\n",
        "df['UV'] = UV"
      ],
      "metadata": {
        "trusted": true,
        "id": "82fBz2V_4obH"
      },
      "execution_count": null,
      "outputs": []
    },
    {
      "cell_type": "code",
      "source": [
        "df"
      ],
      "metadata": {
        "trusted": true,
        "id": "rLP-hwoY4obH",
        "outputId": "712c19cd-34e9-4cc7-8fc3-0e754332be2e"
      },
      "execution_count": null,
      "outputs": [
        {
          "execution_count": 66,
          "output_type": "execute_result",
          "data": {
            "text/plain": "         Rainfall  Temperature  Wind   UV\nEngland        15           10    20  1.0\nFrance         12           13     5  NaN\nGermany        11           14     7  3.0",
            "text/html": "<div>\n<style scoped>\n    .dataframe tbody tr th:only-of-type {\n        vertical-align: middle;\n    }\n\n    .dataframe tbody tr th {\n        vertical-align: top;\n    }\n\n    .dataframe thead th {\n        text-align: right;\n    }\n</style>\n<table border=\"1\" class=\"dataframe\">\n  <thead>\n    <tr style=\"text-align: right;\">\n      <th></th>\n      <th>Rainfall</th>\n      <th>Temperature</th>\n      <th>Wind</th>\n      <th>UV</th>\n    </tr>\n  </thead>\n  <tbody>\n    <tr>\n      <th>England</th>\n      <td>15</td>\n      <td>10</td>\n      <td>20</td>\n      <td>1.0</td>\n    </tr>\n    <tr>\n      <th>France</th>\n      <td>12</td>\n      <td>13</td>\n      <td>5</td>\n      <td>NaN</td>\n    </tr>\n    <tr>\n      <th>Germany</th>\n      <td>11</td>\n      <td>14</td>\n      <td>7</td>\n      <td>3.0</td>\n    </tr>\n  </tbody>\n</table>\n</div>"
          },
          "metadata": {}
        }
      ]
    },
    {
      "cell_type": "markdown",
      "source": [
        "Renaming colums / indexes"
      ],
      "metadata": {
        "id": "MjLvj0jc4obH"
      }
    },
    {
      "cell_type": "code",
      "source": [
        "df.rename(\n",
        "    columns = {\n",
        "        'Temperature': 'Temp'\n",
        "    })"
      ],
      "metadata": {
        "trusted": true,
        "id": "cjMawz7U4obH",
        "outputId": "3c4d4217-74cb-4f7f-c9d2-33e5a3a86a2d"
      },
      "execution_count": null,
      "outputs": [
        {
          "execution_count": 70,
          "output_type": "execute_result",
          "data": {
            "text/plain": "         Rainfall  Temp  Wind   UV\nEngland        15    10    20  1.0\nFrance         12    13     5  NaN\nGermany        11    14     7  3.0",
            "text/html": "<div>\n<style scoped>\n    .dataframe tbody tr th:only-of-type {\n        vertical-align: middle;\n    }\n\n    .dataframe tbody tr th {\n        vertical-align: top;\n    }\n\n    .dataframe thead th {\n        text-align: right;\n    }\n</style>\n<table border=\"1\" class=\"dataframe\">\n  <thead>\n    <tr style=\"text-align: right;\">\n      <th></th>\n      <th>Rainfall</th>\n      <th>Temp</th>\n      <th>Wind</th>\n      <th>UV</th>\n    </tr>\n  </thead>\n  <tbody>\n    <tr>\n      <th>England</th>\n      <td>15</td>\n      <td>10</td>\n      <td>20</td>\n      <td>1.0</td>\n    </tr>\n    <tr>\n      <th>France</th>\n      <td>12</td>\n      <td>13</td>\n      <td>5</td>\n      <td>NaN</td>\n    </tr>\n    <tr>\n      <th>Germany</th>\n      <td>11</td>\n      <td>14</td>\n      <td>7</td>\n      <td>3.0</td>\n    </tr>\n  </tbody>\n</table>\n</div>"
          },
          "metadata": {}
        }
      ]
    },
    {
      "cell_type": "markdown",
      "source": [
        "Making new columns using current columns"
      ],
      "metadata": {
        "id": "m2j7V6XR4obH"
      }
    },
    {
      "cell_type": "code",
      "source": [
        "df['UV per Temp'] = df['UV'] / df['Temperature']"
      ],
      "metadata": {
        "trusted": true,
        "id": "iktfZ0gf4obH"
      },
      "execution_count": null,
      "outputs": []
    },
    {
      "cell_type": "code",
      "source": [
        "df"
      ],
      "metadata": {
        "trusted": true,
        "id": "yaoJtj1l4obH",
        "outputId": "03ebf35b-b70f-413c-bddd-fada7ea9d978"
      },
      "execution_count": null,
      "outputs": [
        {
          "execution_count": 72,
          "output_type": "execute_result",
          "data": {
            "text/plain": "         Rainfall  Temperature  Wind   UV  UV per Temp\nEngland        15           10    20  1.0     0.100000\nFrance         12           13     5  NaN          NaN\nGermany        11           14     7  3.0     0.214286",
            "text/html": "<div>\n<style scoped>\n    .dataframe tbody tr th:only-of-type {\n        vertical-align: middle;\n    }\n\n    .dataframe tbody tr th {\n        vertical-align: top;\n    }\n\n    .dataframe thead th {\n        text-align: right;\n    }\n</style>\n<table border=\"1\" class=\"dataframe\">\n  <thead>\n    <tr style=\"text-align: right;\">\n      <th></th>\n      <th>Rainfall</th>\n      <th>Temperature</th>\n      <th>Wind</th>\n      <th>UV</th>\n      <th>UV per Temp</th>\n    </tr>\n  </thead>\n  <tbody>\n    <tr>\n      <th>England</th>\n      <td>15</td>\n      <td>10</td>\n      <td>20</td>\n      <td>1.0</td>\n      <td>0.100000</td>\n    </tr>\n    <tr>\n      <th>France</th>\n      <td>12</td>\n      <td>13</td>\n      <td>5</td>\n      <td>NaN</td>\n      <td>NaN</td>\n    </tr>\n    <tr>\n      <th>Germany</th>\n      <td>11</td>\n      <td>14</td>\n      <td>7</td>\n      <td>3.0</td>\n      <td>0.214286</td>\n    </tr>\n  </tbody>\n</table>\n</div>"
          },
          "metadata": {}
        }
      ]
    },
    {
      "cell_type": "code",
      "source": [
        "df.describe()"
      ],
      "metadata": {
        "trusted": true,
        "id": "miUEen754obH",
        "outputId": "3202ede3-c46a-4200-98dd-58af21411353"
      },
      "execution_count": null,
      "outputs": [
        {
          "execution_count": 74,
          "output_type": "execute_result",
          "data": {
            "text/plain": "        Rainfall  Temperature       Wind        UV  UV per Temp\ncount   3.000000     3.000000   3.000000  2.000000     2.000000\nmean   12.666667    12.333333  10.666667  2.000000     0.157143\nstd     2.081666     2.081666   8.144528  1.414214     0.080812\nmin    11.000000    10.000000   5.000000  1.000000     0.100000\n25%    11.500000    11.500000   6.000000  1.500000     0.128571\n50%    12.000000    13.000000   7.000000  2.000000     0.157143\n75%    13.500000    13.500000  13.500000  2.500000     0.185714\nmax    15.000000    14.000000  20.000000  3.000000     0.214286",
            "text/html": "<div>\n<style scoped>\n    .dataframe tbody tr th:only-of-type {\n        vertical-align: middle;\n    }\n\n    .dataframe tbody tr th {\n        vertical-align: top;\n    }\n\n    .dataframe thead th {\n        text-align: right;\n    }\n</style>\n<table border=\"1\" class=\"dataframe\">\n  <thead>\n    <tr style=\"text-align: right;\">\n      <th></th>\n      <th>Rainfall</th>\n      <th>Temperature</th>\n      <th>Wind</th>\n      <th>UV</th>\n      <th>UV per Temp</th>\n    </tr>\n  </thead>\n  <tbody>\n    <tr>\n      <th>count</th>\n      <td>3.000000</td>\n      <td>3.000000</td>\n      <td>3.000000</td>\n      <td>2.000000</td>\n      <td>2.000000</td>\n    </tr>\n    <tr>\n      <th>mean</th>\n      <td>12.666667</td>\n      <td>12.333333</td>\n      <td>10.666667</td>\n      <td>2.000000</td>\n      <td>0.157143</td>\n    </tr>\n    <tr>\n      <th>std</th>\n      <td>2.081666</td>\n      <td>2.081666</td>\n      <td>8.144528</td>\n      <td>1.414214</td>\n      <td>0.080812</td>\n    </tr>\n    <tr>\n      <th>min</th>\n      <td>11.000000</td>\n      <td>10.000000</td>\n      <td>5.000000</td>\n      <td>1.000000</td>\n      <td>0.100000</td>\n    </tr>\n    <tr>\n      <th>25%</th>\n      <td>11.500000</td>\n      <td>11.500000</td>\n      <td>6.000000</td>\n      <td>1.500000</td>\n      <td>0.128571</td>\n    </tr>\n    <tr>\n      <th>50%</th>\n      <td>12.000000</td>\n      <td>13.000000</td>\n      <td>7.000000</td>\n      <td>2.000000</td>\n      <td>0.157143</td>\n    </tr>\n    <tr>\n      <th>75%</th>\n      <td>13.500000</td>\n      <td>13.500000</td>\n      <td>13.500000</td>\n      <td>2.500000</td>\n      <td>0.185714</td>\n    </tr>\n    <tr>\n      <th>max</th>\n      <td>15.000000</td>\n      <td>14.000000</td>\n      <td>20.000000</td>\n      <td>3.000000</td>\n      <td>0.214286</td>\n    </tr>\n  </tbody>\n</table>\n</div>"
          },
          "metadata": {}
        }
      ]
    },
    {
      "cell_type": "markdown",
      "source": [
        "<br>\n",
        "<br>"
      ],
      "metadata": {
        "id": "WhDIyY2E4obH"
      }
    }
  ]
}